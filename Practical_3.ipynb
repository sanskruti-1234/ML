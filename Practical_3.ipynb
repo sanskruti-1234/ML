{
  "nbformat": 4,
  "nbformat_minor": 0,
  "metadata": {
    "colab": {
      "provenance": [],
      "toc_visible": true,
      "authorship_tag": "ABX9TyNe5TX9y2McFvNwMyhuwfzz",
      "include_colab_link": true
    },
    "kernelspec": {
      "name": "python3",
      "display_name": "Python 3"
    },
    "language_info": {
      "name": "python"
    }
  },
  "cells": [
    {
      "cell_type": "markdown",
      "metadata": {
        "id": "view-in-github",
        "colab_type": "text"
      },
      "source": [
        "<a href=\"https://colab.research.google.com/github/sanskruti-1234/ML/blob/main/Practical_3.ipynb\" target=\"_parent\"><img src=\"https://colab.research.google.com/assets/colab-badge.svg\" alt=\"Open In Colab\"/></a>"
      ]
    },
    {
      "cell_type": "code",
      "source": [
        "import pandas as pd\n",
        "from sklearn.model_selection import train_test_split\n",
        "from sklearn.preprocessing import StandardScaler, LabelEncoder\n",
        "from sklearn.impute import SimpleImputer\n",
        "df = pd.read_csv(\"telecom_churn.csv\")\n",
        "print(df.head())"
      ],
      "metadata": {
        "colab": {
          "base_uri": "https://localhost:8080/"
        },
        "id": "0uJzh9jFO66E",
        "outputId": "0f76f068-5025-4618-c6d7-5983663bbcbf"
      },
      "execution_count": null,
      "outputs": [
        {
          "output_type": "stream",
          "name": "stdout",
          "text": [
            "   Churn  AccountWeeks  ContractRenewal  DataPlan  DataUsage  CustServCalls  \\\n",
            "0      0           128                1         1        2.7              1   \n",
            "1      0           107                1         1        3.7              1   \n",
            "2      0           137                1         0        0.0              0   \n",
            "3      0            84                0         0        0.0              2   \n",
            "4      0            75                0         0        0.0              3   \n",
            "\n",
            "   DayMins  DayCalls  MonthlyCharge  OverageFee  RoamMins  \n",
            "0    265.1       110           89.0        9.87      10.0  \n",
            "1    161.6       123           82.0        9.78      13.7  \n",
            "2    243.4       114           52.0        6.06      12.2  \n",
            "3    299.4        71           57.0        3.10       6.6  \n",
            "4    166.7       113           41.0        7.42      10.1  \n"
          ]
        }
      ]
    },
    {
      "cell_type": "code",
      "source": [
        "imputer = SimpleImputer(strategy='mean')\n",
        "df = pd.DataFrame(imputer.fit_transform(df), columns=df.columns)\n",
        "label_encoders = {}\n",
        "for column in df.select_dtypes(include=['object']).columns:\n",
        "    le = LabelEncoder()\n",
        "    df[column] = le.fit_transform(df[column])\n",
        "    label_encoders[column] = le\n",
        "X = df.drop('Churn', axis=1)\n",
        "y = df['Churn']\n",
        "X_train, X_test, y_train, y_test = train_test_split(X, y, test_size=0.2, random_state=42)\n",
        "scaler = StandardScaler()\n",
        "X_train_scaled = scaler.fit_transform(X_train)\n",
        "X_test_scaled = scaler.transform(X_test)"
      ],
      "metadata": {
        "id": "7YoqWzJwRJf6"
      },
      "execution_count": null,
      "outputs": []
    },
    {
      "cell_type": "code",
      "source": [
        "from sklearn.linear_model import LogisticRegression\n",
        "from sklearn.ensemble import RandomForestClassifier\n",
        "from sklearn.metrics import accuracy_score, precision_score, recall_score, f1_score, roc_auc_score, confusion_matrix, classification_report\n",
        "import matplotlib.pyplot as plt\n",
        "import seaborn as sns"
      ],
      "metadata": {
        "id": "62IyasbgRfKV"
      },
      "execution_count": null,
      "outputs": []
    },
    {
      "cell_type": "code",
      "source": [
        "log_reg = LogisticRegression()\n",
        "rf_classifier = RandomForestClassifier(n_estimators=100, random_state=42)\n",
        "log_reg.fit(X_train_scaled, y_train)\n",
        "y_pred_log_reg = log_reg.predict(X_test_scaled)\n",
        "rf_classifier.fit(X_train_scaled, y_train)\n",
        "y_pred_rf = rf_classifier.predict(X_test_scaled)\n"
      ],
      "metadata": {
        "id": "zhufgwVMRgrs"
      },
      "execution_count": null,
      "outputs": []
    },
    {
      "cell_type": "code",
      "source": [
        "print(\"Logistic Regression Metrics:\")\n",
        "print(f\"Accuracy: {accuracy_score(y_test, y_pred_log_reg):.4f}\")\n",
        "print(f\"Precision: {precision_score(y_test, y_pred_log_reg):.4f}\")\n",
        "print(f\"Recall: {recall_score(y_test, y_pred_log_reg):.4f}\")\n",
        "print(f\"F1-Score: {f1_score(y_test, y_pred_log_reg):.4f}\")\n",
        "print(f\"ROC-AUC: {roc_auc_score(y_test, log_reg.predict_proba(X_test_scaled)[:, 1]):.4f}\")\n",
        "print(\"Confusion Matrix:\")\n",
        "print(confusion_matrix(y_test, y_pred_log_reg))\n",
        "print(classification_report(y_test, y_pred_log_reg))\n"
      ],
      "metadata": {
        "colab": {
          "base_uri": "https://localhost:8080/"
        },
        "id": "VOlzaik-Rmam",
        "outputId": "f8a268bc-4ba0-437f-d725-698ca68c51e7"
      },
      "execution_count": null,
      "outputs": [
        {
          "output_type": "stream",
          "name": "stdout",
          "text": [
            "Logistic Regression Metrics:\n",
            "Accuracy: 0.8591\n",
            "Precision: 0.6207\n",
            "Recall: 0.1782\n",
            "F1-Score: 0.2769\n",
            "ROC-AUC: 0.8315\n",
            "Confusion Matrix:\n",
            "[[555  11]\n",
            " [ 83  18]]\n",
            "              precision    recall  f1-score   support\n",
            "\n",
            "         0.0       0.87      0.98      0.92       566\n",
            "         1.0       0.62      0.18      0.28       101\n",
            "\n",
            "    accuracy                           0.86       667\n",
            "   macro avg       0.75      0.58      0.60       667\n",
            "weighted avg       0.83      0.86      0.82       667\n",
            "\n"
          ]
        }
      ]
    },
    {
      "cell_type": "code",
      "source": [
        "plt.figure(figsize=(6, 6))\n",
        "sns.heatmap(confusion_matrix(y_test, y_pred_log_reg), annot=True, fmt='d', cmap='Blues', cbar=False,\n",
        "            xticklabels=['No Churn', 'Churn'], yticklabels=['No Churn', 'Churn'])\n",
        "plt.title(\"Logistic Regression Confusion Matrix\")\n",
        "plt.xlabel(\"Predicted\")\n",
        "plt.ylabel(\"True\")\n",
        "plt.show()"
      ],
      "metadata": {
        "colab": {
          "base_uri": "https://localhost:8080/",
          "height": 564
        },
        "id": "KlX55pALRrd2",
        "outputId": "f620c4df-d8b4-4380-e5f0-1c9dd62d0094"
      },
      "execution_count": null,
      "outputs": [
        {
          "output_type": "display_data",
          "data": {
            "text/plain": [
              "<Figure size 600x600 with 1 Axes>"
            ],
            "image/png": "[encoded data removed]"
          },
          "metadata": {}
        }
      ]
    },
    {
      "cell_type": "code",
      "source": [
        "print(\"\\nRandom Forest Classifier Metrics:\")\n",
        "print(f\"Accuracy: {accuracy_score(y_test, y_pred_rf):.4f}\")\n",
        "print(f\"Precision: {precision_score(y_test, y_pred_rf):.4f}\")\n",
        "print(f\"Recall: {recall_score(y_test, y_pred_rf):.4f}\")\n",
        "print(f\"F1-Score: {f1_score(y_test, y_pred_rf):.4f}\")\n",
        "print(f\"ROC-AUC: {roc_auc_score(y_test, rf_classifier.predict_proba(X_test_scaled)[:, 1]):.4f}\")\n",
        "print(\"Confusion Matrix:\")\n",
        "print(confusion_matrix(y_test, y_pred_rf))\n",
        "print(classification_report(y_test, y_pred_rf))\n",
        "\n"
      ],
      "metadata": {
        "colab": {
          "base_uri": "https://localhost:8080/"
        },
        "id": "un7D07iDR5gg",
        "outputId": "63677652-51e5-438f-e4b7-b1b05b94b164"
      },
      "execution_count": null,
      "outputs": [
        {
          "output_type": "stream",
          "name": "stdout",
          "text": [
            "\n",
            "Random Forest Classifier Metrics:\n",
            "Accuracy: 0.9250\n",
            "Precision: 0.8493\n",
            "Recall: 0.6139\n",
            "F1-Score: 0.7126\n",
            "ROC-AUC: 0.9218\n",
            "Confusion Matrix:\n",
            "[[555  11]\n",
            " [ 39  62]]\n",
            "              precision    recall  f1-score   support\n",
            "\n",
            "         0.0       0.93      0.98      0.96       566\n",
            "         1.0       0.85      0.61      0.71       101\n",
            "\n",
            "    accuracy                           0.93       667\n",
            "   macro avg       0.89      0.80      0.83       667\n",
            "weighted avg       0.92      0.93      0.92       667\n",
            "\n"
          ]
        }
      ]
    },
    {
      "cell_type": "code",
      "source": [
        "plt.figure(figsize=(6, 6))\n",
        "sns.heatmap(confusion_matrix(y_test, y_pred_rf), annot=True, fmt='d', cmap='pink', cbar=False,\n",
        "            xticklabels=['No Churn', 'Churn'], yticklabels=['No Churn', 'Churn'])\n",
        "plt.title(\"Random Forest Confusion Matrix\")\n",
        "plt.xlabel(\"Predicted\")\n",
        "plt.ylabel(\"True\")\n",
        "plt.show()"
      ],
      "metadata": {
        "colab": {
          "base_uri": "https://localhost:8080/",
          "height": 564
        },
        "id": "JGFgWu4rR9MI",
        "outputId": "80b6be1c-9644-486d-dabd-9688bd3187aa"
      },
      "execution_count": null,
      "outputs": [
        {
          "output_type": "display_data",
          "data": {
            "text/plain": [
              "<Figure size 600x600 with 1 Axes>"
            ],
            "image/png": "[encoded data removed]"
          },
          "metadata": {}
        }
      ]
    }
  ]
}